{
  "cells": [
    {
      "cell_type": "markdown",
      "metadata": {
        "id": "u7HK2pnO_oPI"
      },
      "source": [
        "# Практическая работа 3 АЗСИИ"
      ]
    },
    {
      "cell_type": "markdown",
      "metadata": {},
      "source": [
        "Костомахин Антон Александрович ББМО-02-23"
      ]
    },
    {
      "cell_type": "markdown",
      "metadata": {
        "id": "TXMBXrifA6P-"
      },
      "source": [
        "Импортирование библиотек"
      ]
    },
    {
      "cell_type": "code",
      "execution_count": 3,
      "metadata": {
        "id": "88ReALEsA_kC"
      },
      "outputs": [],
      "source": [
        "# Импорт необходимых библиотек\n",
        "import tensorflow as tf\n",
        "from tensorflow.keras.datasets import mnist\n",
        "from tensorflow.keras.utils import to_categorical\n",
        "import torch\n",
        "import torch.nn as nn\n",
        "import numpy as np\n",
        "import matplotlib.pyplot as plt"
      ]
    },
    {
      "cell_type": "markdown",
      "metadata": {
        "id": "4N1TzAlFBR4n"
      },
      "source": [
        "Загрузка уже обученной модели и данных MNIST для их использования в атаке"
      ]
    },
    {
      "cell_type": "code",
      "execution_count": 4,
      "metadata": {
        "colab": {
          "base_uri": "https://localhost:8080/"
        },
        "id": "yd2pNKNKAOYX",
        "outputId": "d05f77a1-4d6a-4163-9319-5db6e0fe856d"
      },
      "outputs": [
        {
          "name": "stdout",
          "output_type": "stream",
          "text": [
            "Файл модели не найден. Создаём и обучаем новую модель...\n",
            "Epoch 1/5\n"
          ]
        },
        {
          "name": "stderr",
          "output_type": "stream",
          "text": [
            "C:\\Users\\zazax\\AppData\\Roaming\\Python\\Python312\\site-packages\\keras\\src\\layers\\reshaping\\flatten.py:37: UserWarning: Do not pass an `input_shape`/`input_dim` argument to a layer. When using Sequential models, prefer using an `Input(shape)` object as the first layer in the model instead.\n",
            "  super().__init__(**kwargs)\n"
          ]
        },
        {
          "name": "stdout",
          "output_type": "stream",
          "text": [
            "\u001b[1m1875/1875\u001b[0m \u001b[32m━━━━━━━━━━━━━━━━━━━━\u001b[0m\u001b[37m\u001b[0m \u001b[1m3s\u001b[0m 1ms/step - accuracy: 0.8795 - loss: 0.4280 - val_accuracy: 0.9627 - val_loss: 0.1304\n",
            "Epoch 2/5\n",
            "\u001b[1m1875/1875\u001b[0m \u001b[32m━━━━━━━━━━━━━━━━━━━━\u001b[0m\u001b[37m\u001b[0m \u001b[1m2s\u001b[0m 1ms/step - accuracy: 0.9665 - loss: 0.1160 - val_accuracy: 0.9666 - val_loss: 0.1040\n",
            "Epoch 3/5\n",
            "\u001b[1m1875/1875\u001b[0m \u001b[32m━━━━━━━━━━━━━━━━━━━━\u001b[0m\u001b[37m\u001b[0m \u001b[1m2s\u001b[0m 1ms/step - accuracy: 0.9769 - loss: 0.0768 - val_accuracy: 0.9753 - val_loss: 0.0851\n",
            "Epoch 4/5\n",
            "\u001b[1m1875/1875\u001b[0m \u001b[32m━━━━━━━━━━━━━━━━━━━━\u001b[0m\u001b[37m\u001b[0m \u001b[1m2s\u001b[0m 1ms/step - accuracy: 0.9832 - loss: 0.0563 - val_accuracy: 0.9768 - val_loss: 0.0732\n",
            "Epoch 5/5\n",
            "\u001b[1m1875/1875\u001b[0m \u001b[32m━━━━━━━━━━━━━━━━━━━━\u001b[0m\u001b[37m\u001b[0m \u001b[1m2s\u001b[0m 1ms/step - accuracy: 0.9868 - loss: 0.0450 - val_accuracy: 0.9778 - val_loss: 0.0713\n"
          ]
        },
        {
          "name": "stderr",
          "output_type": "stream",
          "text": [
            "WARNING:absl:You are saving your model as an HDF5 file via `model.save()` or `keras.saving.save_model(model)`. This file format is considered legacy. We recommend using instead the native Keras format, e.g. `model.save('my_model.keras')` or `keras.saving.save_model(model, 'my_model.keras')`. \n",
            "WARNING:absl:Compiled the loaded model, but the compiled metrics have yet to be built. `model.compile_metrics` will be empty until you train or evaluate the model.\n"
          ]
        },
        {
          "name": "stdout",
          "output_type": "stream",
          "text": [
            "Модель сохранена в mnist_model.h5\n",
            "Accuracy on clean dataset: 0.9778\n"
          ]
        }
      ],
      "source": [
        "import os\n",
        "import tensorflow as tf\n",
        "from tensorflow.keras.datasets import mnist\n",
        "from tensorflow.keras.utils import to_categorical\n",
        "from tensorflow.keras.models import Sequential\n",
        "from tensorflow.keras.layers import Dense, Flatten\n",
        "import numpy as np\n",
        "\n",
        "# Проверяем, существует ли файл модели\n",
        "model_path = 'mnist_model.h5'\n",
        "\n",
        "if not os.path.exists(model_path):\n",
        "    print(\"Файл модели не найден. Создаём и обучаем новую модель...\")\n",
        "\n",
        "    # Загрузка данных MNIST\n",
        "    (x_train, y_train), (x_test, y_test) = mnist.load_data()\n",
        "\n",
        "    # Нормализация данных\n",
        "    x_train, x_test = x_train / 255.0, x_test / 255.0\n",
        "\n",
        "    # Создание простой модели\n",
        "    model = Sequential([\n",
        "        Flatten(input_shape=(28, 28)),\n",
        "        Dense(128, activation='relu'),\n",
        "        Dense(10, activation='softmax')\n",
        "    ])\n",
        "\n",
        "    # Компиляция и обучение модели\n",
        "    model.compile(optimizer='adam', loss='sparse_categorical_crossentropy', metrics=['accuracy'])\n",
        "    model.fit(x_train, y_train, epochs=5, validation_data=(x_test, y_test))\n",
        "\n",
        "    # Сохранение обученной модели\n",
        "    model.save(model_path)\n",
        "    print(f\"Модель сохранена в {model_path}\")\n",
        "else:\n",
        "    print(f\"Файл модели найден: {model_path}\")\n",
        "\n",
        "# Загрузка модели\n",
        "pretrained_model = tf.keras.models.load_model(model_path)\n",
        "\n",
        "# Загрузка тестового набора данных\n",
        "(_, _), (mnist_images, mnist_labels) = mnist.load_data()\n",
        "\n",
        "# Нормализация данных\n",
        "mnist_images = mnist_images.astype(\"float32\") / 255.0\n",
        "\n",
        "# Проверяем точность модели на исходных данных\n",
        "loss, accuracy = pretrained_model.evaluate(mnist_images, mnist_labels, verbose=0)\n",
        "print(f'Accuracy on clean dataset: {accuracy:.4f}')\n"
      ]
    },
    {
      "cell_type": "markdown",
      "metadata": {
        "id": "3WsV2eP-BavX"
      },
      "source": [
        "После установки Foolbox \"pip install foolbox\" делаем реализацию атаки"
      ]
    },
    {
      "cell_type": "markdown",
      "metadata": {
        "id": "RUN_oY_uBcGG"
      },
      "source": [
        "Реализация атаки Carlini-Wagner"
      ]
    },
    {
      "cell_type": "code",
      "execution_count": 13,
      "metadata": {
        "colab": {
          "base_uri": "https://localhost:8080/",
          "height": 308
        },
        "id": "V-fXDvp0AUqg",
        "outputId": "8c7f6d7f-a5c4-43d1-b2c0-b0dba85cbf6e"
      },
      "outputs": [
        {
          "data": {
            "image/png": "[encoded data removed]",
            "text/plain": [
              "<Figure size 600x800 with 2 Axes>"
            ]
          },
          "metadata": {},
          "output_type": "display_data"
        }
      ],
      "source": [
        "import foolbox as fb\n",
        "\n",
        "# Инициализация Foolbox для работы с TensorFlow\n",
        "foolbox_model = fb.TensorFlowModel(pretrained_model, bounds=(0, 1))\n",
        "\n",
        "# Выбираем одно изображение для анализа\n",
        "target_image = tf.convert_to_tensor(mnist_images[1:2], dtype=tf.float32)\n",
        "original_label = tf.convert_to_tensor(np.argmax(mnist_labels[1]), dtype=tf.int64)\n",
        "\n",
        "# Выполняем атаку с использованием L2 Carlini & Wagner\n",
        "cw_attack = fb.attacks.L2CarliniWagnerAttack(steps=3)\n",
        "perturbed_image = cw_attack(foolbox_model, target_image, original_label[None], epsilons=0.2)\n",
        "\n",
        "# Визуализация результата атаки\n",
        "plt.figure(figsize=(6, 8))\n",
        "plt.subplot(1, 2, 1)\n",
        "plt.title(\"Исходное изображение\")\n",
        "plt.imshow(target_image[0].numpy(), cmap=\"gray\")\n",
        "plt.subplot(1, 2, 2)\n",
        "plt.title(\"Атакованное изображение\")\n",
        "plt.imshow(perturbed_image[0][0].numpy(), cmap=\"gray\")\n",
        "plt.show()\n"
      ]
    },
    {
      "cell_type": "markdown",
      "metadata": {
        "id": "OT_pEF-zBpqm"
      },
      "source": [
        "Оценка модели на противоречивых примерах"
      ]
    },
    {
      "cell_type": "code",
      "execution_count": 14,
      "metadata": {
        "colab": {
          "base_uri": "https://localhost:8080/"
        },
        "id": "mChelg4JAgOd",
        "outputId": "4235c4ea-eb6d-4ebe-dc10-e15e1469b876"
      },
      "outputs": [
        {
          "name": "stdout",
          "output_type": "stream",
          "text": [
            "Model accuracy on adversarial dataset: 0.9200\n"
          ]
        }
      ],
      "source": [
        "import tensorflow as tf\n",
        "import numpy as np\n",
        "\n",
        "# Создание множества атакованных изображений для оценки модели\n",
        "adversarial_set = []\n",
        "subset_size = 100  # Ограничиваем количество изображений для оптимизации\n",
        "batch_size = 10    # Размер батча\n",
        "\n",
        "# Обработка изображений батчами\n",
        "for i in range(0, subset_size, batch_size):\n",
        "    # Подготовка батча изображений и меток\n",
        "    batch_images = tf.convert_to_tensor(mnist_images[i:i+batch_size], dtype=tf.float32)\n",
        "    batch_labels = tf.convert_to_tensor([np.argmax(mnist_labels[j]) for j in range(i, i+batch_size)], dtype=tf.int64)\n",
        "    \n",
        "    # Атака на текущий батч\n",
        "    perturbed_samples, _, success = cw_attack(foolbox_model, batch_images, batch_labels, epsilons=0.1)\n",
        "    adversarial_set.append(perturbed_samples)\n",
        "\n",
        "# Конкатенация всех атакованных изображений в один набор\n",
        "adversarial_set = tf.concat(adversarial_set, axis=0)\n",
        "\n",
        "# Оценка точности модели на атакованных изображениях\n",
        "adv_loss, adv_accuracy = pretrained_model.evaluate(adversarial_set, mnist_labels[:subset_size], verbose=0)\n",
        "print(f'Model accuracy on adversarial dataset: {adv_accuracy:.4f}')\n"
      ]
    },
    {
      "cell_type": "markdown",
      "metadata": {},
      "source": [
        "Значение точности 0.9200 на адверсариальных примерах говорит о том, что модель испытывает определённые трудности при обработке атакованных данных, что может указывать на её уязвимость. Несмотря на высокую точность на обычных данных, способность модели справляться с атакующими примерами значительно снижена, что делает её подверженной угрозам в реальных условиях эксплуатации. Это может быть серьёзной проблемой, особенно в приложениях, где безопасность и надёжность модели имеют критическое значение."
      ]
    }
  ],
  "metadata": {
    "colab": {
      "provenance": []
    },
    "kernelspec": {
      "display_name": "Python 3",
      "name": "python3"
    },
    "language_info": {
      "codemirror_mode": {
        "name": "ipython",
        "version": 3
      },
      "file_extension": ".py",
      "mimetype": "text/x-python",
      "name": "python",
      "nbconvert_exporter": "python",
      "pygments_lexer": "ipython3",
      "version": "3.12.0"
    }
  },
  "nbformat": 4,
  "nbformat_minor": 0
}
